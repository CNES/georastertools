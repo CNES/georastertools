{
 "cells": [
  {
   "cell_type": "markdown",
   "id": "3cfd9b07-42a2-4d77-b801-3b39e329b3c5",
   "metadata": {},
   "source": [
    "## Tutorial - Georastertools"
   ]
  },
  {
   "cell_type": "markdown",
   "id": "92ea3084-7d61-4bae-9746-b3a8fb13d71e",
   "metadata": {},
   "source": [
    "Georastertools provides satellite image processing functions written in Python, based on *rasterio* and *geopandas* libraries. It includes a CLI (Command Line Interface) and a Python API that we will introduce in this tutorial.\n",
    "\n",
    "Georastertools gives access to the following tools:\n",
    "\n",
    "- **Radioindice** to compute radiometric indices such as NDVI, NDWI, NDBI, etc.\n",
    "- **Timeseries** to generate a temporal sequence by computing temporal derivatives between two images\n",
    "- **Tilling** to split an image into tiles based on a given geometry\n",
    "- **Zonalstats** to compute zonal statistics on a specified geometries\n",
    "- **Filter** to apply filters such as median, sum, mean, and adaptive gaussian\n",
    "- **Hillshade** to simulate cast shadows for a given sun elevation\n"
   ]
  },
  {
   "cell_type": "markdown",
   "id": "4b8a1107-b60b-41e3-9bec-2a6df5337385",
   "metadata": {},
   "source": [
    "### Installation "
   ]
  },
  {
   "cell_type": "markdown",
   "id": "e12bc081-9dc2-404e-abc5-683fc50c46c1",
   "metadata": {},
   "source": [
    "To install Georastertools, you can use the following commands in your terminal :"
   ]
  },
  {
   "cell_type": "markdown",
   "id": "a231aa5a",
   "metadata": {},
   "source": [
    "```bash\n",
    "conda create -n env_name\n",
    "conda activate env_name\n",
    "conda install python=3.8.13 libgdal=3.5.0\n",
    "pip install georastertools --no-binary rasterio\n",
    "```"
   ]
  },
  {
   "cell_type": "markdown",
   "id": "5cb84df7",
   "metadata": {},
   "source": [
    "This will create a conda environment in your machine and install the required versions of *python* and *libgdal*. It then install *georastertools* and *rasterio* with the *--no-binary* option."
   ]
  },
  {
   "cell_type": "markdown",
   "id": "ce1d9e2f",
   "metadata": {},
   "source": [
    "### Python API"
   ]
  },
  {
   "cell_type": "markdown",
   "id": "52ea76c8",
   "metadata": {},
   "source": [
    "The Python API of Georastertools allows to activate each tool and to extend their functionalities. The methods are all named with the following pattern *with_\\<something\\>* and return the current instance so that the methods can be chained. The method *eolab.rastertools.Rastertool.process_files* allows to process several files can be processed at the same time\n",
    "\n",
    "Here, we present a slightly more advanced example, we define our own radiometric index and compute it with the Radioindice class. "
   ]
  },
  {
   "cell_type": "markdown",
   "id": "759f3186",
   "metadata": {},
   "source": [
    "#### Exemple : Compute a user-defined indice"
   ]
  },
  {
   "cell_type": "code",
   "execution_count": 2,
   "id": "f3e6eb1f",
   "metadata": {},
   "outputs": [],
   "source": [
    "from eolab.rastertools import Radioindice\n",
    "from eolab.rastertools.product import BandChannel\n",
    "from eolab.rastertools.processing import RadioindiceProcessing\n",
    "import numpy as np"
   ]
  },
  {
   "cell_type": "markdown",
   "id": "6f59eb3c",
   "metadata": {},
   "source": [
    "We define the Normalized Difference Snow Index (NDSI) in a function that takes a numpy.ndarray as input and returns the computed NDSI in a numpy.ndarray.\n",
    "\n",
    "The Normalized Difference Snow Index (NDSI) is calculated using the following formula:\n",
    "\n",
    "$$\\text{NDSI} = \\frac{\\text{Green Band} - \\text{SWIR Band}}{\\text{Green Band} + \\text{SWIR Band}}$$\n",
    "\n",
    "Then, we instantiate a RadioindiceProcessing object by giving the indice function to the *algo* parameter. In our case, we use *ndsi_fct*.\n",
    "We then specify its input channels (i.e. the bands used to compute the NDSI) with the *with_channels* method."
   ]
  },
  {
   "cell_type": "code",
   "execution_count": 9,
   "id": "7f4e1e67",
   "metadata": {},
   "outputs": [],
   "source": [
    "def ndsi_fct(bands : np.ndarray) -> np.ndarray :\n",
    "    \"\"\"\n",
    "    Computes the NDSI of the input image\n",
    "    \"\"\"\n",
    "    ndsi =  (bands[0] - bands[1]) / (bands[0] + bands[1])\n",
    "\n",
    "    return ndsi\n",
    "\n",
    "ndsi = RadioindiceProcessing(name = \"ndsi\", algo = ndsi_fct).with_channels([BandChannel.green, BandChannel.swir])"
   ]
  },
  {
   "cell_type": "markdown",
   "id": "efcef574",
   "metadata": {},
   "source": [
    "In case the indice function is not in the scope of your project, you can import it and use it in the RadioindiceProcessing intantiation as follows  : \n",
    "\n",
    "```python\n",
    "from path_of_py_file import your_function\n",
    "RadioindiceProcessing(name = \"your_function_name\", algo = your_function)\n",
    "```"
   ]
  },
  {
   "cell_type": "markdown",
   "id": "eb31f04e",
   "metadata": {},
   "source": [
    "To compute the indice, we start by intantiating *tool*, a Radioindice object, with a list of RadioindiceProcessing objects containing the indices we want to compute. In our case, we use a list of one element, containing the previously created RadioindiceProcessing object *ndsi*.\n",
    "\n",
    "\n",
    "We then configure the output directory and our region of interest. The line *outputs = tool.process_files(inputfiles)* compute the NDSI of the given images and saves the output, please ensure that the output directory already exists in your machine."
   ]
  },
  {
   "cell_type": "code",
   "execution_count": 8,
   "id": "6c8c691e-f227-4ee8-be66-f71200791408",
   "metadata": {
    "scrolled": true
   },
   "outputs": [
    {
     "name": "stderr",
     "output_type": "stream",
     "text": [
      "ndsi: 100%|███████████████████████████████████████| 4/4 [00:00<00:00,  9.86it/s]\n",
      "ndsi: 100%|███████████████████████████████████████| 4/4 [00:00<00:00, 15.89it/s]\n"
     ]
    }
   ],
   "source": [
    "inputfiles = [\"data/SENTINEL2A_20180928-105515-685_L2A_T30TYP_D.zip\",\"data/SENTINEL2B_20181023-105107-455_L2A_T30TYP_D.zip\"]\n",
    "\n",
    "\n",
    "tool = Radioindice(indices = [ndsi])\n",
    "tool.with_output(\"output_radi\", merge=True)\n",
    "tool.with_roi(\"data/COMMUNE_32001.shp\")\n",
    "outputs = tool.process_files(inputfiles)"
   ]
  },
  {
   "cell_type": "markdown",
   "id": "6cc791c9-0743-49d4-9366-d50df006ce08",
   "metadata": {},
   "source": [
    "### Command Line Interface"
   ]
  },
  {
   "cell_type": "markdown",
   "id": "9e43adb6",
   "metadata": {},
   "source": [
    "The CLI of Georastertools enables users to use the differents tools directly from the terminal without needing to write additional code. The generated files are automatically dowloaded on your machine.\n",
    "\n",
    "The following command lists all the options that can be given to the CLI of Georastertools."
   ]
  },
  {
   "cell_type": "code",
   "execution_count": 8,
   "id": "b5b48a7d-056e-49f1-a46b-54714931dbb3",
   "metadata": {},
   "outputs": [
    {
     "name": "stdout",
     "output_type": "stream",
     "text": [
      "Usage: rio georastertools [OPTIONS] COMMAND [ARGS]...\n",
      "\n",
      "  Main entry point for the `georastertools` Command Line Interface.\n",
      "\n",
      "  The `georastertools` CLI provides tools for raster processing and analysis\n",
      "  and allows configurable data handling, parallel processing, and debugging\n",
      "  support.\n",
      "\n",
      "  Logging:\n",
      "\n",
      "      - INFO level (`-v`) gives detailed step information.\n",
      "\n",
      "      - DEBUG level (`-vv`) offers full debug-level tracing.\n",
      "\n",
      "  Environment Variables:\n",
      "\n",
      "      - `RASTERTOOLS_NOTQDM`: If the log level is above INFO, sets this to\n",
      "      disable progress bars.\n",
      "\n",
      "      - `RASTERTOOLS_MAXWORKERS`: If `max_workers` is set, it defines the max\n",
      "      workers for georastertools.\n",
      "\n",
      "Options:\n",
      "  -t, --rastertype PATH  JSON file defining additional raster types of input\n",
      "                         files\n",
      "  --max_workers INTEGER  Maximum number of workers for parallel processing. If\n",
      "                         not given, it will default to the number of\n",
      "                         processors on the machine. When all processors are\n",
      "                         not allocated to run georastertools, it is thus\n",
      "                         recommended to set this option.\n",
      "  --debug                Store to disk the intermediate VRT images that are\n",
      "                         generated when handling the input files which can be\n",
      "                         complex raster product composed of several band\n",
      "                         files.\n",
      "  -v, --verbose          set loglevel to INFO\n",
      "  -vv, --very-verbose    set loglevel to DEBUG\n",
      "  --version              Show the version and exit.\n",
      "  -h, --help             Show this message and exit.\n",
      "\n",
      "Commands:\n",
      "  fi           Apply a filter to a set of images.\n",
      "  filter       Apply a filter to a set of images.\n",
      "  hillshade    Execute the hillshade subcommand on a Digital Height Model...\n",
      "  hs           Execute the hillshade subcommand on a Digital Height Model...\n",
      "  radioindice  Compute the requested radio indices on raster data.\n",
      "  ri           Compute the requested radio indices on raster data.\n",
      "  sp           Compute the speed of radiometric values for multiple...\n",
      "  speed        Compute the speed of radiometric values for multiple...\n",
      "  svf          Compute the Sky View Factor (SVF) of a Digital Height...\n",
      "  ti           Generate tiles of an input raster image following the...\n",
      "  tiling       Generate tiles of an input raster image following the...\n",
      "  timeseries   Generate a timeseries of images (without gaps) from a set...\n",
      "  ts           Generate a timeseries of images (without gaps) from a set...\n",
      "  zonalstats   Compute zonal statistics of a raster image.\n",
      "  zs           Compute zonal statistics of a raster image.\n"
     ]
    }
   ],
   "source": [
    "%%bash\n",
    "rio georastertools --help"
   ]
  },
  {
   "cell_type": "markdown",
   "id": "46079643",
   "metadata": {},
   "source": [
    "#### Exemple 1 : Compute zonal statistics"
   ]
  },
  {
   "cell_type": "markdown",
   "id": "0d146a2e",
   "metadata": {},
   "source": [
    "The zonalstats tool computes zonal statistics for a given input raster. The statistics are computed inside zones defined by a vector file, or, on the entire raster if no vector file is provided. It is also possible to generate charts to visualize the computed statistics.\n",
    "\n",
    "The tool supports the computation of various statistics, including:\n",
    "- Minimum and maximum\n",
    "- Range\n",
    "- Mean and standard deviation\n",
    "- Percentile\n",
    "- Median and Median absolute deviation\n",
    "- Count, for all pixels, no data and valid pixels\n",
    "- Sum\n",
    "- Majority and minority, most and least frequent value\n",
    "- Unique values\n",
    "- ...\n",
    "                              \n",
    "To generate the zonalstatistics of a raster, we can provide different parameters that can be displayed with the following command :"
   ]
  },
  {
   "cell_type": "code",
   "execution_count": 7,
   "id": "b32f27ef",
   "metadata": {
    "scrolled": true
   },
   "outputs": [
    {
     "name": "stdout",
     "output_type": "stream",
     "text": [
      "Usage: rio georastertools zonalstats [OPTIONS] INPUTS...\n",
      "\n",
      "  Compute zonal statistics of a raster image.\n",
      "\n",
      "  Available statistics are: min, max, range, mean, std, percentile_x (x in [0,\n",
      "  100]), median, mad, count, valid, nodata, sum, majority, minority, unique.\n",
      "\n",
      "  By default, only the first band is computed unless specified otherwise.\n",
      "\n",
      "  Arguments:\n",
      "\n",
      "      inputs TEXT\n",
      "\n",
      "      Raster files to process. You can provide a single filewith extension\n",
      "      \".lst\" (e.g. \"zonalstats.lst\") that lists the input files to process\n",
      "      (one input file per line in .lst)\n",
      "\n",
      "Options:\n",
      "  -o, --output TEXT           Output directory to store results (by default\n",
      "                              current directory)\n",
      "  -f, --format TEXT           Output format of the results when input\n",
      "                              geometries are provided (by default ESRI\n",
      "                              Shapefile). Possible values are ESRI Shapefile,\n",
      "                              GeoJSON, CSV, GPKG, GML\n",
      "  -g, --geometry TEXT         List of geometries where to compute statistics\n",
      "                              (vector like a shapefile or geojson)\n",
      "  -w, --within                When activated, statistics are computed for the\n",
      "                              geometries that are within the raster shape. The\n",
      "                              default behaviour otherwise is to compute\n",
      "                              statistics for all geometries that intersect the\n",
      "                              raster shape.\n",
      "  --stats TEXT                List of stats to compute. Possible stats are:\n",
      "                              min max range mean std percentile_x (x in [0,\n",
      "                              100]) median mad count valid nodata sum majority\n",
      "                              minority unique\n",
      "  --categorical               If the input raster is categorical (i.e. raster\n",
      "                              values represent discrete classes) compute the\n",
      "                              counts of every unique pixel values.\n",
      "  --valid_threshold FLOAT     Minimum percentage of valid pixels in a shape to\n",
      "                              compute its statistics.\n",
      "  --area                      Whether to multiply all stats by the area of a\n",
      "                              cell of the input raster.\n",
      "  --prefix TEXT               Add a prefix to the keys (default: None). One\n",
      "                              prefix per band (e.g. 'band1 band2')\n",
      "  --sigma TEXT                Distance to the mean value (in sigma) in order\n",
      "                              to produce a raster that highlights outliers.\n",
      "  -c, --chart TEXT            Generate a chart per stat and per geometry\n",
      "                              (x=timestamp of the input products / y=stat\n",
      "                              value) and store it in the file defined by this\n",
      "                              argument\n",
      "  -d, --display               Display the chart\n",
      "  -gi, --geometry-index TEXT  Name of the geometry index used for the chart\n",
      "                              (default='ID')\n",
      "  --category_file TEXT        File (raster or geometries) containing discrete\n",
      "                              classes classifying the ROI.\n",
      "  --category_index TEXT       Column name identifying categories in\n",
      "                              categroy_file (only if file format is\n",
      "                              geometries)\n",
      "  --category_names TEXT       JSON files containing a dict with classes index\n",
      "                              as keys and names to display classes as values.\n",
      "  -b, --bands INTEGER         List of bands to process\n",
      "  -a, --all                   Process all bands\n",
      "  -h, --help                  Show this message and exit.\n"
     ]
    }
   ],
   "source": [
    "%%bash\n",
    "rio georastertools zonalstats --help"
   ]
  },
  {
   "cell_type": "markdown",
   "id": "40741758",
   "metadata": {},
   "source": [
    "The following example computes the statistics of the blue band of a Sentinel-2B image. The vector file that contains the statistical values calculated for each geometry is automatically saved in the \"output_zonalstats\" directory."
   ]
  },
  {
   "cell_type": "code",
   "execution_count": 26,
   "id": "e9c3c9af",
   "metadata": {},
   "outputs": [],
   "source": [
    "%%bash\n",
    "rio georastertools zs -o output_zonalstats -f GeoJSON -g data/COMMUNE_32xxx.geojson --stats min --stats max --stats mean --stats std data/S2B_T30TYP_20241021T105009_B02_20m.jp2"
   ]
  },
  {
   "cell_type": "markdown",
   "id": "9cd4abc6",
   "metadata": {},
   "source": [
    "To access the computed statistics, it is possible to open the generated file on QGIS. Then, open its attribute table by clicking on the icon : <img src=\"img/icon.png\" alt=\"\" width=30/>\n",
    "\n",
    "The following table contains the results obtained:\n",
    "\n",
    "\n",
    "<div style=\"text-align: center;\">\n",
    "    <img src=\"img/table_zs_full.png\" alt=\"\" width=\"1000\"/>\n",
    "</div>"
   ]
  },
  {
   "cell_type": "markdown",
   "id": "838f1e8f",
   "metadata": {},
   "source": [
    "If the provided input image does not cover the entire vector file, statistics can be computed only for the geometries that are fully covered by the image by adding the --within option. This option ensure that the statistics obtained cover the whole region and are accurate. \n",
    "\n",
    "<div style=\"text-align: center;\">\n",
    "    <img src=\"img/within_zs_geom.png\" alt=\"\" width=\"400\"/>\n",
    "</div>"
   ]
  },
  {
   "cell_type": "code",
   "execution_count": 24,
   "id": "3d45c83c",
   "metadata": {},
   "outputs": [],
   "source": [
    "%%bash\n",
    "rio georastertools zs -o output_zonalstats -f GeoJSON -g data/COMMUNE_32xxx.geojson --stats min --stats max --stats mean --stats std --within data/SENTINEL2A_20180928-105515-685_L2A_T30TYP_D-ndvi.tif"
   ]
  },
  {
   "cell_type": "markdown",
   "id": "6cd239ac",
   "metadata": {},
   "source": [
    "The generated table now contains the statististics of only the two geometries that are contained in the image.\n",
    "\n",
    "<div style=\"text-align: center;\">\n",
    "    <img src=\"img/within_zs_table.png\" alt=\"\" width=\"1000\"/>\n",
    "</div>"
   ]
  },
  {
   "cell_type": "markdown",
   "id": "78497144",
   "metadata": {},
   "source": [
    "To compute the number of pixels corresponding to specific values, for example in a classified image, the *--categorical* option can be used.\n",
    "\n",
    "In the following exemple we use zonalstats on a classification of Geneva from the 21-10-2023, with labels indicating clouds, water, land, and cloud shadows."
   ]
  },
  {
   "cell_type": "code",
   "execution_count": 13,
   "id": "1cc1c9db",
   "metadata": {},
   "outputs": [],
   "source": [
    "%%bash\n",
    "rio georastertools zs -o output_zonalstats -f GeoJSON --categorical data/labeled_img_regular.tif"
   ]
  },
  {
   "cell_type": "markdown",
   "id": "6e7fe174",
   "metadata": {},
   "source": [
    "We obtain the following table, that contains the occurences of each class in the input image.\n",
    "\n",
    "<div style=\"text-align: center;\">\n",
    "    <img src=\"img/zs_cat_table.png\" alt=\"\" width=\"600\"/>\n",
    "</div>\n"
   ]
  },
  {
   "cell_type": "markdown",
   "id": "6aeac0bb",
   "metadata": {},
   "source": [
    "#### Exemple 2 : Compute a time series and plotting its reflectance"
   ]
  },
  {
   "cell_type": "markdown",
   "id": "ac711a62",
   "metadata": {},
   "source": [
    "Georastertools can generate time series between two raster images. The sequence of rasters is created using linear interpolation of every pixel of the input images.\n",
    "\n",
    "If one of the inputs contains missing data, the interpolation enables to fill the gaps in all the rasters of the sequence.\n",
    "\n",
    "\n",
    "If the start (or end) dates are before (or after) the dates of the input rasters, the corresponding generated raster will contain the values of the first (or last) input raster and may contain the same gaps as the input raster.\n",
    "\n",
    "\n",
    "To generate a timeseries, we can provide different parameters that can be displayed with the following command : "
   ]
  },
  {
   "cell_type": "code",
   "execution_count": 20,
   "id": "d591a51a",
   "metadata": {},
   "outputs": [
    {
     "name": "stdout",
     "output_type": "stream",
     "text": [
      "Usage: rio georastertools timeseries [OPTIONS] INPUTS...\n",
      "\n",
      "  Generate a timeseries of images (without gaps) from a set of input images.\n",
      "  Data not present in the input images (e.g., missing images for specific\n",
      "  dates or masked data) are interpolated (with linear interpolation) so that\n",
      "  all gaps in the timeseries are filled.\n",
      "\n",
      "  This command is useful for generating continuous timeseries data, even when\n",
      "  some input images are missing or contain masked values.\n",
      "\n",
      "  Arguments:\n",
      "\n",
      "  inputs TEXT\n",
      "\n",
      "      Input file to process (e.g. Sentinel2 L2A MAJA from THEIA). You can\n",
      "      provide a single file with extension \".lst\" (e.g. \"speed.lst\") that\n",
      "      lists the input files to process (one input file per line in .lst).\n",
      "\n",
      "Options:\n",
      "  -o, --output TEXT           Output directory to store results (by default\n",
      "                              current directory)\n",
      "  -s, --start_date TEXT       Start date of the timeseries to generate in the\n",
      "                              following format: yyyy-MM-dd\n",
      "  -e, --end_date TEXT         End date of the timeseries to generate in the\n",
      "                              following format: yyyy-MM-dd\n",
      "  -p, --time_period INTEGER   Time period (number of days) between two\n",
      "                              consecutive images in the timeseries to generate\n",
      "                              e.g. 10 = generate one image every 10 days\n",
      "  -b, --bands INTEGER         List of bands to process\n",
      "  -a, --all                   Process all bands\n",
      "  -ws, --window_size INTEGER  Size of tiles to distribute processing, default:\n",
      "                              1024\n",
      "  -h, --help                  Show this message and exit.\n"
     ]
    }
   ],
   "source": [
    "%%bash\n",
    "rio georastertools timeseries --help"
   ]
  },
  {
   "cell_type": "markdown",
   "id": "5366a3d0",
   "metadata": {},
   "source": [
    "In the following example, we compute the time series between two Sentinel-2 images from 2018-09-28 to 2018-10-23. The step between two consecutive images is 2 days and the images are processed using a window size of 512 x 512 pixels.\n",
    "\n",
    "The processed files are automatically saved in the *output_timeseries* directory.\n",
    "\n",
    "At least two input rasters must be provided, but additional rasters can be included if required."
   ]
  },
  {
   "cell_type": "code",
   "execution_count": 14,
   "id": "4accb9da",
   "metadata": {},
   "outputs": [],
   "source": [
    "%%bash\n",
    "rio georastertools timeseries data/SENTINEL2A_20180928-105515-685_L2A_T30TYP_D-ndvi.tif data/SENTINEL2B_20181023-105107-455_L2A_T30TYP_D-ndvi.tif -o output_timeseries -s 2018-09-28 -e 2018-10-23 -p 2 -ws 512"
   ]
  },
  {
   "cell_type": "markdown",
   "id": "e8e0187a",
   "metadata": {},
   "source": [
    "To compute the average reflectance of the generated rasters with the *zonalstats* tool, we create a *.lst* file containing the paths of all the files created with *timeseries*."
   ]
  },
  {
   "cell_type": "code",
   "execution_count": 15,
   "id": "a0ae990e",
   "metadata": {},
   "outputs": [],
   "source": [
    "import os \n",
    "\n",
    "with open(\"output_timeseries/all_rasters.lst\", \"w\") as lst_file:\n",
    "    for file in os.listdir('./output_timeseries'):\n",
    "        if file.split('.')[-1] == 'tif' :\n",
    "            lst_file.write(\"output_timeseries/\" + file)\n",
    "            lst_file.write(\"\\n\")"
   ]
  },
  {
   "cell_type": "markdown",
   "id": "bb3d3842",
   "metadata": {},
   "source": [
    "We now use the *zonalstats* tool to compute the average reflectance of each generated rasters by giving the created *.lst* file as input. We choose the Geojson format for the output statistics."
   ]
  },
  {
   "cell_type": "code",
   "execution_count": 16,
   "id": "ade38c62",
   "metadata": {},
   "outputs": [],
   "source": [
    "%%bash\n",
    "rio georastertools zs -o output_timeseries -f GeoJSON --stats mean output_timeseries/all_rasters.lst"
   ]
  },
  {
   "cell_type": "markdown",
   "id": "4a6e1a78",
   "metadata": {},
   "source": [
    "The *zonalstats* tool does not provide the possibility to merge the statitics of the different raster in on output file. Therefore, we create a pandas.Dataframe that merges the output Geojson files. To run the cell below, please pip install geojson and pandas libraries in your conda environment beforehand. \n",
    "We then sort the Dataframe by raster's dates."
   ]
  },
  {
   "cell_type": "code",
   "execution_count": 10,
   "id": "5d7b674a",
   "metadata": {
    "scrolled": false
   },
   "outputs": [
    {
     "name": "stdout",
     "output_type": "stream",
     "text": [
      "   b1.name          b1.date   b1.mean    b1.std\n",
      "0     ndvi  20181010-000000  0.593114  0.229803\n",
      "1     ndvi  20180930-000000  0.599850  0.252037\n",
      "2     ndvi  20181014-000000  0.590419  0.226090\n",
      "3     ndvi  20181018-000000  0.587725  0.225623\n",
      "4     ndvi  20181002-000000  0.598503  0.246250\n",
      "5     ndvi  20181012-000000  0.591767  0.227548\n",
      "6     ndvi  20181022-000000  0.585030  0.228421\n",
      "7     ndvi  20180928-000000  0.601197  0.258411\n",
      "8     ndvi  20181008-000000  0.594461  0.232833\n",
      "9     ndvi  20181016-000000  0.589072  0.225447\n",
      "10    ndvi  20181020-000000  0.586378  0.226618\n",
      "11    ndvi  20181004-000000  0.597156  0.241094\n",
      "12    ndvi  20181006-000000  0.595809  0.236608\n"
     ]
    }
   ],
   "source": [
    "import geojson\n",
    "import pandas as pd\n",
    "\n",
    "properties_list = []\n",
    "\n",
    "#Merge the geojson files in a pd.dataframe\n",
    "for file in os.listdir('./output_timeseries'):\n",
    "    if file.split('.')[-1] == 'geojson' :\n",
    "        with open(\"output_timeseries/\" + file) as f:\n",
    "            gj = geojson.load(f)\n",
    "            \n",
    "            properties_list.append(gj['features'][0][\"properties\"])\n",
    "    \n",
    "df = pd.DataFrame(properties_list)\n",
    "\n",
    "#Sort the dataframe by dates\n",
    "df = df.sort_values(\"b1.date\")\n",
    "df[\"b1.date\"] = df[\"b1.date\"].apply(lambda x: x.split('-')[0])"
   ]
  },
  {
   "cell_type": "markdown",
   "id": "a709ffd9",
   "metadata": {},
   "source": [
    "Here is the obtained Dataframe."
   ]
  },
  {
   "cell_type": "code",
   "execution_count": 21,
   "id": "b74b8cb8",
   "metadata": {
    "scrolled": true
   },
   "outputs": [
    {
     "name": "stdout",
     "output_type": "stream",
     "text": [
      "   b1.name   b1.date   b1.mean    b1.std\n",
      "7     ndvi  20180928  0.601197  0.258411\n",
      "1     ndvi  20180930  0.599850  0.252037\n",
      "4     ndvi  20181002  0.598503  0.246250\n",
      "11    ndvi  20181004  0.597156  0.241094\n",
      "12    ndvi  20181006  0.595809  0.236608\n",
      "8     ndvi  20181008  0.594461  0.232833\n",
      "0     ndvi  20181010  0.593114  0.229803\n",
      "5     ndvi  20181012  0.591767  0.227548\n",
      "2     ndvi  20181014  0.590419  0.226090\n",
      "9     ndvi  20181016  0.589072  0.225447\n",
      "3     ndvi  20181018  0.587725  0.225623\n",
      "10    ndvi  20181020  0.586378  0.226618\n",
      "6     ndvi  20181022  0.585030  0.228421\n"
     ]
    }
   ],
   "source": [
    "# Display the DataFrame\n",
    "print(df)"
   ]
  },
  {
   "cell_type": "markdown",
   "id": "580d04af",
   "metadata": {},
   "source": [
    "We use matplotlib.pyplot to plot the average reflectances, please pip install matplotlib in your conda environment before running the cell. The red dots indicates the reflectances of the images given to *timeseries* as inputs and the blue dots the reflectances of the interpolated rasters. As the interpolation used by the tool is linear, the curve displayed by the plot is affine. "
   ]
  },
  {
   "cell_type": "code",
   "execution_count": 23,
   "id": "ea4da43e",
   "metadata": {},
   "outputs": [
    {
     "data": {
      "text/plain": [
       "<matplotlib.legend.Legend at 0x76d88fcd9460>"
      ]
     },
     "execution_count": 23,
     "metadata": {},
     "output_type": "execute_result"
    },
    {
     "data": {
      "image/png": "[encoded data removed]",
      "text/plain": [
       "<Figure size 640x480 with 1 Axes>"
      ]
     },
     "metadata": {},
     "output_type": "display_data"
    }
   ],
   "source": [
    "import matplotlib.pyplot as plt\n",
    "\n",
    "plt.plot(df[\"b1.date\"], df[\"b1.mean\"], '--bx', label='Interpolated average reflectance')\n",
    "#reflectance oaf original images\n",
    "plt.plot(df[\"b1.date\"].iloc[[0, -1]], df[\"b1.mean\"].iloc[[0, -1]], 'ro', label='Raw average reflectance')\n",
    "plt.xticks(rotation=45, ha='right')\n",
    "plt.xlabel(rotation=45, ha='right')\n",
    "plt.legend()"
   ]
  }
 ],
 "metadata": {
  "kernelspec": {
   "display_name": "Python 3 (ipykernel)",
   "language": "python",
   "name": "python3"
  },
  "language_info": {
   "codemirror_mode": {
    "name": "ipython",
    "version": 3
   },
   "file_extension": ".py",
   "mimetype": "text/x-python",
   "name": "python",
   "nbconvert_exporter": "python",
   "pygments_lexer": "ipython3",
   "version": "3.8.13"
  }
 },
 "nbformat": 4,
 "nbformat_minor": 5
}
